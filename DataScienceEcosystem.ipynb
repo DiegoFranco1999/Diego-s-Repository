{
 "cells": [
  {
   "cell_type": "markdown",
   "id": "10d8caf8-5a0d-48a3-bd68-003201320666",
   "metadata": {},
   "source": [
    "# Data Science Tools and Ecosystem"
   ]
  },
  {
   "cell_type": "markdown",
   "id": "6dc46ecf-8d9a-4833-87de-b24391829869",
   "metadata": {},
   "source": [
    "In this notebook, Data Science Tools and Ecosystem are summarized."
   ]
  },
  {
   "cell_type": "markdown",
   "id": "6fe3ece4-dc2b-455c-9a27-7a535d8a03db",
   "metadata": {},
   "source": [
    "**Objectives:**\n",
    "    \n",
    "* List popular languages for Data Science\n",
    "* List of commonly used libraries used by Data Scientists\n",
    "* List of Tools for Data Science"
   ]
  },
  {
   "cell_type": "markdown",
   "id": "45fef841-3395-498a-9c83-fdd5a7e64cf4",
   "metadata": {},
   "source": [
    "Some f the popular languages that Data Scientists use are:\n",
    "    \n",
    "1. R\n",
    "2. Python\n",
    "3. C\n",
    "4. SQL"
   ]
  },
  {
   "cell_type": "markdown",
   "id": "29ab2551-9a94-460a-8ce1-442956ea008c",
   "metadata": {},
   "source": [
    "Some of the commonly used libraries used by Data Scientists include:\n",
    "\n",
    "1. Pandas\n",
    "2. Numpy\n",
    "3. TensorFlow"
   ]
  },
  {
   "cell_type": "markdown",
   "id": "df189cbe-3b21-4fb2-b0a1-9ee51eb273f2",
   "metadata": {},
   "source": [
    "|Data Science Tools|\n",
    "--------------------\n",
    "|Jupyter Notebook|\n",
    "|RStudio|\n",
    "|Apache Zeppelin|"
   ]
  },
  {
   "cell_type": "markdown",
   "id": "867cdcea-02be-43f0-83ff-9fb0e78a38d5",
   "metadata": {},
   "source": [
    "# Below are a few examples of evaluating arithmetic expressions in Python"
   ]
  },
  {
   "cell_type": "code",
   "execution_count": 6,
   "id": "a5e045e1-5fb7-410a-afdc-80b6bd087e04",
   "metadata": {},
   "outputs": [
    {
     "data": {
      "text/plain": [
       "17"
      ]
     },
     "execution_count": 6,
     "metadata": {},
     "output_type": "execute_result"
    }
   ],
   "source": [
    "# This a simple arithmetic expression to mutiply then add integers\n",
    "(3*4)+5"
   ]
  },
  {
   "cell_type": "code",
   "execution_count": 7,
   "id": "085a486a-0a45-4a4f-8561-3774a2e61d53",
   "metadata": {},
   "outputs": [
    {
     "data": {
      "text/plain": [
       "3.3333333333333335"
      ]
     },
     "execution_count": 7,
     "metadata": {},
     "output_type": "execute_result"
    }
   ],
   "source": [
    "# This will convert 200 minutes to hours by diving by 60\n",
    "200/60"
   ]
  },
  {
   "cell_type": "markdown",
   "id": "75007e24-5aca-4a87-8653-ea143af9bbe8",
   "metadata": {},
   "source": [
    "## Author:\n",
    "Diego Franco Goyzueta"
   ]
  },
  {
   "cell_type": "code",
   "execution_count": null,
   "id": "77892ad0-04d8-4857-a97b-5cb231a4f344",
   "metadata": {},
   "outputs": [],
   "source": []
  }
 ],
 "metadata": {
  "kernelspec": {
   "display_name": "Python 3 (ipykernel)",
   "language": "python",
   "name": "python3"
  },
  "language_info": {
   "codemirror_mode": {
    "name": "ipython",
    "version": 3
   },
   "file_extension": ".py",
   "mimetype": "text/x-python",
   "name": "python",
   "nbconvert_exporter": "python",
   "pygments_lexer": "ipython3",
   "version": "3.10.9"
  }
 },
 "nbformat": 4,
 "nbformat_minor": 5
}
